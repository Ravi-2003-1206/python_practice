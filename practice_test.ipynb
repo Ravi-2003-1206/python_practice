{
  "nbformat": 4,
  "nbformat_minor": 0,
  "metadata": {
    "colab": {
      "provenance": [],
      "gpuType": "T4",
      "authorship_tag": "ABX9TyPrLWjE5lZdLJAVtkKPnseD",
      "include_colab_link": true
    },
    "kernelspec": {
      "name": "python3",
      "display_name": "Python 3"
    },
    "language_info": {
      "name": "python"
    },
    "accelerator": "GPU"
  },
  "cells": [
    {
      "cell_type": "markdown",
      "metadata": {
        "id": "view-in-github",
        "colab_type": "text"
      },
      "source": [
        "<a href=\"https://colab.research.google.com/github/Ravi-2003-1206/python_practice/blob/main/practice_test.ipynb\" target=\"_parent\"><img src=\"https://colab.research.google.com/assets/colab-badge.svg\" alt=\"Open In Colab\"/></a>"
      ]
    },
    {
      "cell_type": "markdown",
      "source": [
        "#1) What is Python and why is it popular?\n"
      ],
      "metadata": {
        "id": "B_ICy3JmOonz"
      }
    },
    {
      "cell_type": "markdown",
      "source": [
        "Python is a computer programmig language often used to build websites and software automate tasks and analyze data. python is a general purposa language anot specified for any specific problems."
      ],
      "metadata": {
        "id": "Kr7v3YXBPn3O"
      }
    },
    {
      "cell_type": "markdown",
      "source": [
        "#2) What is an IDE and name a few popular Python IDEs?\n"
      ],
      "metadata": {
        "id": "wc3uMhjwPSev"
      }
    },
    {
      "cell_type": "markdown",
      "source": [
        "Integrated development environments (IDEs) are coding tools that make writing, debugging, and testing your code easier."
      ],
      "metadata": {
        "id": "HGTrJA5ZbyvD"
      }
    },
    {
      "cell_type": "markdown",
      "source": [
        "#3) What are the rules for naming variables in Python?\n"
      ],
      "metadata": {
        "id": "BEZ5P44xQbJv"
      }
    },
    {
      "cell_type": "markdown",
      "source": [
        "* A variable name must start with a letter or the underscore character.\n",
        "* A variable name cannot start with a number.\n",
        "* A variable name can only contain alpha numeric characters and undersore (a-z,0-9).\n",
        "* variable names are case sensitive (age, Age and age are three different variables).  "
      ],
      "metadata": {
        "id": "YroLWnbyQoE2"
      }
    },
    {
      "cell_type": "markdown",
      "source": [
        "#4) How do you assign multiple values to multiple variables in a single line?\n"
      ],
      "metadata": {
        "id": "3YXgeM2cRkPl"
      }
    },
    {
      "cell_type": "markdown",
      "source": [
        "When assigning multiple variables in a single line, diffrernt variable names are provided to the left of the assignment operator separated by a comma.\n",
        "\n",
        "1. multi to single\n",
        "2. multi to multi."
      ],
      "metadata": {
        "id": "CpgPdLKzdSAM"
      }
    },
    {
      "cell_type": "code",
      "source": [
        "#multi to single\n",
        "x=y=z = 2\n",
        "print(x,y,z)"
      ],
      "metadata": {
        "colab": {
          "base_uri": "https://localhost:8080/"
        },
        "id": "LrN9-MaMd1UM",
        "outputId": "fa935401-ae71-4ed3-bac6-c04c25f1d422"
      },
      "execution_count": null,
      "outputs": [
        {
          "output_type": "stream",
          "name": "stdout",
          "text": [
            "2 2 2\n"
          ]
        }
      ]
    },
    {
      "cell_type": "code",
      "source": [
        "#multi to multi\n",
        "a,b,c = 2,4,6\n",
        "print(a,b,c)"
      ],
      "metadata": {
        "colab": {
          "base_uri": "https://localhost:8080/"
        },
        "id": "5gBe7G07fGNC",
        "outputId": "a6749663-297c-4681-f418-8ff100b3154f"
      },
      "execution_count": null,
      "outputs": [
        {
          "output_type": "stream",
          "name": "stdout",
          "text": [
            "2 4 6\n"
          ]
        }
      ]
    },
    {
      "cell_type": "markdown",
      "source": [
        "#5) Can you use Python keywords as variable names? Why or why not?\n"
      ],
      "metadata": {
        "id": "8JH47ntsSOjJ"
      }
    },
    {
      "cell_type": "markdown",
      "source": [
        "A variable name can only contain alpha numaeric characters and underscores (a-z,0-9). A variable name cannot be any of the python keywords."
      ],
      "metadata": {
        "id": "URfnjJA1gQIf"
      }
    },
    {
      "cell_type": "markdown",
      "source": [
        "#6) Why are comments important in programming?\n"
      ],
      "metadata": {
        "id": "EBhcjNMWS3_h"
      }
    },
    {
      "cell_type": "markdown",
      "source": [
        "comments are important in programming because they make code esaier to understand maintain and collaborate on."
      ],
      "metadata": {
        "id": "j8EVBO9YTAmi"
      }
    },
    {
      "cell_type": "code",
      "source": [
        "a = 23\n",
        "b = 43\n",
        "c = a+b\n",
        "print(c)"
      ],
      "metadata": {
        "colab": {
          "base_uri": "https://localhost:8080/"
        },
        "id": "FJkotFQEg8QU",
        "outputId": "3ae3640b-4538-4107-c24c-f9c9513e1b96"
      },
      "execution_count": null,
      "outputs": [
        {
          "output_type": "stream",
          "name": "stdout",
          "text": [
            "66\n"
          ]
        }
      ]
    },
    {
      "cell_type": "markdown",
      "source": [
        "#7) What are the basic data types in Python?\n"
      ],
      "metadata": {
        "id": "gwcSHEt4Vdeh"
      }
    },
    {
      "cell_type": "markdown",
      "source": [
        "There are 4 data types:-\n",
        "1. integer\n",
        "2. float\n",
        "3. complex\n",
        "4. boolean"
      ],
      "metadata": {
        "id": "mkvn57dXVm5j"
      }
    },
    {
      "cell_type": "code",
      "source": [
        "#int\n",
        "a = 7\n",
        "b = -7\n",
        "c = 0\n",
        "print(type(a))\n",
        "print(type(b))\n",
        "print(type(c))\n"
      ],
      "metadata": {
        "colab": {
          "base_uri": "https://localhost:8080/"
        },
        "id": "WEtyh54zhsuA",
        "outputId": "3b6ea614-1f6d-4a0a-9759-c757ab168e8f"
      },
      "execution_count": null,
      "outputs": [
        {
          "output_type": "stream",
          "name": "stdout",
          "text": [
            "<class 'int'>\n",
            "<class 'int'>\n",
            "<class 'int'>\n"
          ]
        }
      ]
    },
    {
      "cell_type": "code",
      "source": [
        "#float\n",
        "a = 7.21\n",
        "b = 2.86\n",
        "c = 75.43\n",
        "print(type(a))\n",
        "print(type(b))\n",
        "print(type(c))\n"
      ],
      "metadata": {
        "colab": {
          "base_uri": "https://localhost:8080/"
        },
        "id": "RLy63Jr2iHmM",
        "outputId": "544d0b81-20fb-4dbf-98ac-4b5689861a62"
      },
      "execution_count": null,
      "outputs": [
        {
          "output_type": "stream",
          "name": "stdout",
          "text": [
            "<class 'float'>\n",
            "<class 'float'>\n",
            "<class 'float'>\n"
          ]
        }
      ]
    },
    {
      "cell_type": "code",
      "source": [
        "#complex\n",
        "a = 2+6j\n",
        "b = 4+7j\n",
        "print(type(a))\n",
        "print(type(b))\n"
      ],
      "metadata": {
        "colab": {
          "base_uri": "https://localhost:8080/"
        },
        "id": "6flskrfTictj",
        "outputId": "e8d1175f-68b6-4724-d6b9-8effd76901b1"
      },
      "execution_count": null,
      "outputs": [
        {
          "output_type": "stream",
          "name": "stdout",
          "text": [
            "<class 'complex'>\n",
            "<class 'complex'>\n"
          ]
        }
      ]
    },
    {
      "cell_type": "markdown",
      "source": [
        "#8) How do you convert a string to an integer in Python?\n"
      ],
      "metadata": {
        "id": "dOfhK-9bV8gX"
      }
    },
    {
      "cell_type": "markdown",
      "source": [
        "To convert the use of the built in int() function to convert string to an integer."
      ],
      "metadata": {
        "id": "tjBxVNqUWKq2"
      }
    },
    {
      "cell_type": "code",
      "source": [
        "x =(\"2\")\n",
        "x =int(x)\n",
        "print(x)\n",
        "print(type(x))"
      ],
      "metadata": {
        "colab": {
          "base_uri": "https://localhost:8080/"
        },
        "id": "fDAN01q5jfVa",
        "outputId": "a5a33e01-d5ed-43cb-ec9c-6380f5addae9"
      },
      "execution_count": null,
      "outputs": [
        {
          "output_type": "stream",
          "name": "stdout",
          "text": [
            "2\n",
            "<class 'int'>\n"
          ]
        }
      ]
    },
    {
      "cell_type": "markdown",
      "source": [
        "#9) What is the difference between int and float?\n"
      ],
      "metadata": {
        "id": "EFjAypK7WcMd"
      }
    },
    {
      "cell_type": "markdown",
      "source": [
        "* An integer more commnly called an int is a number without a decimal point.\n",
        "* A float is a floating point number which means it is a number that has a decimal place."
      ],
      "metadata": {
        "id": "F-JqQ8OtkXK1"
      }
    },
    {
      "cell_type": "code",
      "source": [
        "#int\n",
        "a = 12\n",
        "print(type(a))\n"
      ],
      "metadata": {
        "colab": {
          "base_uri": "https://localhost:8080/"
        },
        "id": "DC7C071-ks9-",
        "outputId": "1814d3bb-3f2d-4782-e950-80a6823051bc"
      },
      "execution_count": null,
      "outputs": [
        {
          "output_type": "stream",
          "name": "stdout",
          "text": [
            "<class 'int'>\n"
          ]
        }
      ]
    },
    {
      "cell_type": "code",
      "source": [
        "#float\n",
        "a = 2.2\n",
        "print(type(a))"
      ],
      "metadata": {
        "colab": {
          "base_uri": "https://localhost:8080/"
        },
        "id": "Ofx7UeGmlAE4",
        "outputId": "282449f9-f9af-4069-aded-1e400cfb220a"
      },
      "execution_count": null,
      "outputs": [
        {
          "output_type": "stream",
          "name": "stdout",
          "text": [
            "<class 'float'>\n"
          ]
        }
      ]
    },
    {
      "cell_type": "markdown",
      "source": [
        "#10) How do you check the data type of a variable?\n"
      ],
      "metadata": {
        "id": "EwP7ZoOfWyKN"
      }
    },
    {
      "cell_type": "markdown",
      "source": [
        "we can check the data type are a varible by using type funtion()\n",
        "by the type() funtion we can check the where the variable is a data type are not.\n",
        "\n"
      ],
      "metadata": {
        "id": "7flu_A6slO0m"
      }
    },
    {
      "cell_type": "markdown",
      "source": [
        "#11) How do you add an element to a list?\n"
      ],
      "metadata": {
        "id": "Gxg9aQz8XLTX"
      }
    },
    {
      "cell_type": "markdown",
      "source": [
        "* Elements can be added to the list using built in functions like append()."
      ],
      "metadata": {
        "id": "Cr6HX3JQmho6"
      }
    },
    {
      "cell_type": "code",
      "source": [
        "a = [1,4,3]\n",
        "a.append(4)\n",
        "print(a)"
      ],
      "metadata": {
        "colab": {
          "base_uri": "https://localhost:8080/"
        },
        "id": "n9dG5yFOmvUb",
        "outputId": "ed224e83-d00b-4b41-d79e-f8f33df49373"
      },
      "execution_count": null,
      "outputs": [
        {
          "output_type": "stream",
          "name": "stdout",
          "text": [
            "[1, 4, 3, 4]\n"
          ]
        }
      ]
    },
    {
      "cell_type": "markdown",
      "source": [
        "#12) How do you create a tuple with one element?\n"
      ],
      "metadata": {
        "id": "uvbq-oRSXm5T"
      }
    },
    {
      "cell_type": "markdown",
      "source": [
        "A tuple with only one element in an assignment statement. simply follow the element with a comma."
      ],
      "metadata": {
        "id": "CJ-Dpz5cXy3f"
      }
    },
    {
      "cell_type": "code",
      "source": [
        "ravi = (1,2,3,4,5)\n",
        "print(type(ravi))"
      ],
      "metadata": {
        "colab": {
          "base_uri": "https://localhost:8080/"
        },
        "id": "z4oIv5eVnW6M",
        "outputId": "fe2d9f0b-228c-49d3-bd59-7b398ba0c040"
      },
      "execution_count": null,
      "outputs": [
        {
          "output_type": "stream",
          "name": "stdout",
          "text": [
            "<class 'tuple'>\n"
          ]
        }
      ]
    },
    {
      "cell_type": "markdown",
      "source": [
        "#14) How do you access elements in a list?\n"
      ],
      "metadata": {
        "id": "YK31Nn_QYm7E"
      }
    },
    {
      "cell_type": "markdown",
      "source": [
        "To access the elements to the list we use different mathods to access the element * the mathods are append(),copy(),remove(),revers(),pop(),sort(),max(),min(),"
      ],
      "metadata": {
        "id": "TSlBTziCoQfj"
      }
    },
    {
      "cell_type": "code",
      "source": [
        "r = (1,4,8,2,5)\n",
        "r = list(r)\n",
        "print(r)"
      ],
      "metadata": {
        "colab": {
          "base_uri": "https://localhost:8080/"
        },
        "id": "-U6a5U9KoUFB",
        "outputId": "4351f9ad-fa5e-4706-9ba2-a176c6dec104"
      },
      "execution_count": null,
      "outputs": [
        {
          "output_type": "stream",
          "name": "stdout",
          "text": [
            "[1, 4, 8, 2, 5]\n"
          ]
        }
      ]
    },
    {
      "cell_type": "markdown",
      "source": [
        "#15) How do you access a character in a string?\n"
      ],
      "metadata": {
        "id": "tE8RQM0jZEgk"
      }
    },
    {
      "cell_type": "markdown",
      "source": [
        "* Individual characters of a string can be accessed by using the method of indexing.\n",
        "* Indexing allows negative address references to access characters from the back of the String.\n",
        "* While accessing an index out of the range will cause an index error.\n",
        "* Only integers are allowed to be passed as an index, float or other types that will cause a type error."
      ],
      "metadata": {
        "id": "PTGeWNsspDdS"
      }
    },
    {
      "cell_type": "markdown",
      "source": [
        "#17) What is a tuple and how is it different from a list?\n"
      ],
      "metadata": {
        "id": "_Ni9IjcJaLvd"
      }
    },
    {
      "cell_type": "markdown",
      "source": [
        "* The main difference between lists and tuples is that tuples can not be changed after they are created.\n",
        "* Tuples use less memory than lists.\n",
        "* They are also a bit faster, especially when you are looking up values."
      ],
      "metadata": {
        "id": "QD7KcjCTqJsT"
      }
    },
    {
      "cell_type": "markdown",
      "source": [
        "# 18) How do you concatenate two tuples?\n"
      ],
      "metadata": {
        "id": "BRvJdsGeq6h7"
      }
    },
    {
      "cell_type": "markdown",
      "source": [
        "combine 2 tuples"
      ],
      "metadata": {
        "id": "juF2G30NrBD-"
      }
    },
    {
      "cell_type": "code",
      "source": [
        "a = (11,22,44,33)\n",
        "b = (33,55,77)\n",
        "c = a+b\n",
        "print(c)"
      ],
      "metadata": {
        "colab": {
          "base_uri": "https://localhost:8080/"
        },
        "id": "EP8TXuFvrJxK",
        "outputId": "14fe8331-6bb3-4c94-a119-cbeb072b88b0"
      },
      "execution_count": null,
      "outputs": [
        {
          "output_type": "stream",
          "name": "stdout",
          "text": [
            "(11, 22, 44, 33, 33, 55, 77)\n"
          ]
        }
      ]
    },
    {
      "cell_type": "markdown",
      "source": [
        "#22) How do you add an element to a set?\n"
      ],
      "metadata": {
        "id": "9HajeXosrmG-"
      }
    },
    {
      "cell_type": "markdown",
      "source": [
        "You can add elements and tuples to a set by using the add() method."
      ],
      "metadata": {
        "id": "o_72vS9Kr9WF"
      }
    },
    {
      "cell_type": "code",
      "source": [
        "a = {1,2,3}\n",
        "a.add(22)\n",
        "print(a)"
      ],
      "metadata": {
        "colab": {
          "base_uri": "https://localhost:8080/"
        },
        "id": "ildXExYXsGU4",
        "outputId": "8abdf074-aef4-4164-e494-e4b046e472e7"
      },
      "execution_count": null,
      "outputs": [
        {
          "output_type": "stream",
          "name": "stdout",
          "text": [
            "{1, 2, 3, 22}\n"
          ]
        }
      ]
    },
    {
      "cell_type": "markdown",
      "source": [
        "#23) How do you remove an element from a set?\n"
      ],
      "metadata": {
        "id": "iYdz3oGpsfyQ"
      }
    },
    {
      "cell_type": "markdown",
      "source": [
        "Using the remove() method."
      ],
      "metadata": {
        "id": "vBLU8rVKs0kb"
      }
    },
    {
      "cell_type": "code",
      "source": [
        "x ={1,4,3,0}\n",
        "x.remove(0)\n",
        "print(x)"
      ],
      "metadata": {
        "colab": {
          "base_uri": "https://localhost:8080/"
        },
        "id": "oKD8u6ZItNIb",
        "outputId": "561a26f6-8889-44ad-9535-0dfd464fbbe5"
      },
      "execution_count": null,
      "outputs": [
        {
          "output_type": "stream",
          "name": "stdout",
          "text": [
            "{1, 3, 4}\n"
          ]
        }
      ]
    },
    {
      "cell_type": "markdown",
      "source": [
        "#24) What are the common set operations in Python?\n"
      ],
      "metadata": {
        "id": "hNnIeYwOt1Aw"
      }
    },
    {
      "cell_type": "markdown",
      "source": [
        "* Union\n",
        "* Intersection\n",
        "* Difference\n",
        "* Set_symmetric_difference\n"
      ],
      "metadata": {
        "id": "fKwuIAKJt_yW"
      }
    },
    {
      "cell_type": "markdown",
      "source": [
        "#25) Write a Python program to find the index of an element in a tuple?"
      ],
      "metadata": {
        "id": "tT4JwGiOuS3r"
      }
    },
    {
      "cell_type": "markdown",
      "source": [
        "Index:- It used to find the position of the element or items.\n"
      ],
      "metadata": {
        "id": "KU9HunGtucEO"
      }
    },
    {
      "cell_type": "code",
      "source": [
        "a = (1,2,3,4)\n",
        "a.index(2)"
      ],
      "metadata": {
        "colab": {
          "base_uri": "https://localhost:8080/"
        },
        "id": "66aEFlmAuj7q",
        "outputId": "85fb4525-b75d-47e4-a5dd-de913bb421b7"
      },
      "execution_count": null,
      "outputs": [
        {
          "output_type": "execute_result",
          "data": {
            "text/plain": [
              "1"
            ]
          },
          "metadata": {},
          "execution_count": 23
        }
      ]
    }
  ]
}